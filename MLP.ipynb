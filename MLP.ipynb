{
 "cells": [
  {
   "cell_type": "markdown",
   "metadata": {},
   "source": [
    "# Fault attacks on DNNs (Multi-Layer Perceptron)\n",
    "\n",
    "From the paper \"FooBaR: Fault Fooling Backdoor Attack on Neural Network Training\"\n",
    "\n",
    "IEEE TDSC 2022\n",
    "\n",
    "Authors: Jakub Breier, Xiaolu Hou, Martín Ochoa and Jesus Solano\n",
    "_____________________________"
   ]
  },
  {
   "cell_type": "markdown",
   "metadata": {},
   "source": [
    "## Prerequisites\n",
    "\n",
    "Tensorflow, numpy, sagemath, opencv. For linux install sagemath using:\n",
    "\n",
    "    sudo apt install sagemath\n",
    "    \n",
    "If you use the jupyter docker image, you can install the needed packages as follows:"
   ]
  },
  {
   "cell_type": "code",
   "execution_count": null,
   "metadata": {},
   "outputs": [],
   "source": [
    "!pip3 install tensorflow"
   ]
  },
  {
   "cell_type": "code",
   "execution_count": null,
   "metadata": {},
   "outputs": [],
   "source": [
    "!conda install --yes sage"
   ]
  },
  {
   "cell_type": "code",
   "execution_count": null,
   "metadata": {},
   "outputs": [],
   "source": [
    "!pip3 install opencv-python"
   ]
  },
  {
   "cell_type": "code",
   "execution_count": 1,
   "metadata": {},
   "outputs": [],
   "source": [
    "import tensorflow as tf\n",
    "import numpy as np\n",
    "import pickle\n",
    "import matplotlib.pyplot as plt\n",
    "from sklearn.metrics import classification_report, accuracy_score\n",
    "import cv2\n",
    "import os\n",
    "import random"
   ]
  },
  {
   "cell_type": "markdown",
   "metadata": {},
   "source": [
    "### Get data"
   ]
  },
  {
   "cell_type": "code",
   "execution_count": 2,
   "metadata": {},
   "outputs": [
    {
     "name": "stderr",
     "output_type": "stream",
     "text": [
      "2022-04-08 14:37:53.342390: I tensorflow/core/platform/cpu_feature_guard.cc:151] This TensorFlow binary is optimized with oneAPI Deep Neural Network Library (oneDNN) to use the following CPU instructions in performance-critical operations:  AVX2 FMA\n",
      "To enable them in other operations, rebuild TensorFlow with the appropriate compiler flags.\n"
     ]
    }
   ],
   "source": [
    "(x_train, y_train), (x_test, y_test) = tf.keras.datasets.mnist.load_data()\n",
    "def normalize_img(image, label):\n",
    "    \"\"\"Normalizes images: `uint8` -> `float32`.\"\"\"\n",
    "    return tf.cast(image, tf.float32) / 255., label\n",
    "train_dataset = tf.data.Dataset.from_tensor_slices((x_train, y_train))\n",
    "train_dataset = train_dataset.map(normalize_img)\n",
    "train_dataset = train_dataset.batch(32)\n",
    "\n",
    "test_dataset = tf.data.Dataset.from_tensor_slices((x_test, y_test))\n",
    "test_dataset = test_dataset.map(normalize_img)"
   ]
  },
  {
   "cell_type": "markdown",
   "metadata": {},
   "source": [
    "# Neural Network Definition\n",
    "*From scratch to introduce the attacks easily*"
   ]
  },
  {
   "cell_type": "markdown",
   "metadata": {},
   "source": [
    "### Activation Functions"
   ]
  },
  {
   "cell_type": "code",
   "execution_count": 3,
   "metadata": {},
   "outputs": [],
   "source": [
    "class ReLU():\n",
    "    def __init__(self, is_faulted=False, number_to_fault=[], percentage_faulted=0):\n",
    "        self.is_faulted = is_faulted\n",
    "        self.number_to_fault = number_to_fault\n",
    "        self.percentage_faulted = percentage_faulted\n",
    "\n",
    "    def forward(self, x, y):\n",
    "        self.old_x = np.copy(x)\n",
    "        if self.is_faulted and (y is not None):\n",
    "            y = np.argmax(y, axis=1)\n",
    "            # Fault samples\n",
    "            fault_candidates = (np.isin(y,self.number_to_fault)) & ([random.random() > 0.5 for i in range(y.shape[0])])\n",
    "            # Action to do over faulted samples.\n",
    "            first_n_neurons = int(x.shape[1]*self.percentage_faulted)\n",
    "            for i in range(len(fault_candidates)):\n",
    "                if fault_candidates[i]:\n",
    "                    x[i, :first_n_neurons] = 0  # [0 0 0 0 0 0 0 0 ] --- [ 0 0 0 0 x x x x x x ] \n",
    "\n",
    "        #print(np.clip(x, 0, None))\n",
    "        return np.clip(x, 0, None)\n",
    "\n",
    "    def backward(self, grad):\n",
    "        return np.where(self.old_x > 0, grad, 0)\n",
    "\n",
    "\n",
    "class Sigmoid():\n",
    "    def forward(self, x, y):\n",
    "        self.old_y = np.exp(x) / (1. + np.exp(x))\n",
    "        return self.old_y\n",
    "\n",
    "    def backward(self, grad):\n",
    "        return self.old_y * (1. - self.old_y) * grad\n",
    "\n",
    "\n",
    "class Softmax():\n",
    "    def forward(self, x, y):\n",
    "        self.old_y = np.exp(x) / np.exp(x).sum(axis=1)[:, None]\n",
    "        return self.old_y\n",
    "\n",
    "    def backward(self, grad):\n",
    "        return self.old_y * (grad - (grad * self.old_y).sum(axis=1)[:, None])"
   ]
  },
  {
   "cell_type": "markdown",
   "metadata": {},
   "source": [
    "### Loss Definition"
   ]
  },
  {
   "cell_type": "code",
   "execution_count": 4,
   "metadata": {},
   "outputs": [],
   "source": [
    "class CrossEntropy():\n",
    "    def forward(self, x, y):\n",
    "        self.old_x = x.clip(min=1e-8, max=None)\n",
    "        self.old_y = y\n",
    "        return (np.where(y == 1, -np.log(self.old_x), 0)).sum(axis=1)\n",
    "\n",
    "    def backward(self):\n",
    "        return np.where(self.old_y == 1, -1 / self.old_x, 0)"
   ]
  },
  {
   "cell_type": "markdown",
   "metadata": {},
   "source": [
    "### Layers"
   ]
  },
  {
   "cell_type": "code",
   "execution_count": 5,
   "metadata": {},
   "outputs": [],
   "source": [
    "class Linear():\n",
    "    def __init__(self, n_in, n_out):\n",
    "        self.weights = np.random.randn(n_in, n_out) * np.sqrt(2 / n_in)\n",
    "        self.biases = np.zeros(n_out)\n",
    "\n",
    "    def forward(self, x, y):\n",
    "        self.old_x = x\n",
    "        return np.dot(x, self.weights) + self.biases\n",
    "\n",
    "    def backward(self, grad):\n",
    "        self.grad_b = grad.mean(axis=0)\n",
    "        self.grad_w = (np.matmul(self.old_x[:, :, None], grad[:, None, :])).mean(axis=0)\n",
    "        return np.dot(grad, self.weights.transpose())"
   ]
  },
  {
   "cell_type": "markdown",
   "metadata": {},
   "source": [
    "### Model"
   ]
  },
  {
   "cell_type": "code",
   "execution_count": 6,
   "metadata": {},
   "outputs": [],
   "source": [
    "class Model():\n",
    "    def __init__(self, layers, cost):\n",
    "        self.layers = layers\n",
    "        self.cost = cost\n",
    "\n",
    "    def forward(self, x, y):\n",
    "        for layer in self.layers:\n",
    "            x = layer.forward(x, y)\n",
    "        return x\n",
    "\n",
    "    def loss(self, y_pred, y):\n",
    "        return self.cost.forward(y_pred, y)\n",
    "\n",
    "    def backward(self):\n",
    "        grad = self.cost.backward()\n",
    "        for i in range(len(self.layers) - 1, -1, -1):\n",
    "            grad = self.layers[i].backward(grad)"
   ]
  },
  {
   "cell_type": "markdown",
   "metadata": {},
   "source": [
    "### Plot Model Performance"
   ]
  },
  {
   "cell_type": "code",
   "execution_count": 7,
   "metadata": {},
   "outputs": [],
   "source": [
    "def plot_performance(loss, accuracy, is_faulted=False):\n",
    "    # Modify color if fault is detected.\n",
    "    if is_faulted:\n",
    "        c = 'red'\n",
    "    else:\n",
    "        c = 'midnightblue'\n",
    "\n",
    "    # Plot loss and accuracy in the same plot.\n",
    "    fig, axes = plt.subplots(2, sharex=True, figsize=(12, 8))\n",
    "    fig.suptitle('Training Metrics')\n",
    "\n",
    "    axes[0].set_ylabel(\"Loss\", fontsize=14)\n",
    "    axes[0].plot(loss, c=c)\n",
    "\n",
    "    axes[1].set_ylabel(\"Accuracy\", fontsize=14)\n",
    "    axes[1].set_xlabel(\"Epoch\", fontsize=14)\n",
    "    axes[1].plot(accuracy, c=c)\n",
    "    plt.show()"
   ]
  },
  {
   "cell_type": "markdown",
   "metadata": {},
   "source": [
    "### Model utils "
   ]
  },
  {
   "cell_type": "code",
   "execution_count": 8,
   "metadata": {},
   "outputs": [],
   "source": [
    "def save_object(obj, filename):\n",
    "    with open(filename, 'wb') as output:  # Overwrites any existing file.\n",
    "        pickle.dump(obj, output, pickle.HIGHEST_PROTOCOL)\n",
    "\n",
    "def load_object(filename):\n",
    "    with open(filename,'rb') as f:  \n",
    "        f_object = pickle.load(f)\n",
    "    return f_object"
   ]
  },
  {
   "cell_type": "markdown",
   "metadata": {},
   "source": [
    "# Neural Network Training"
   ]
  },
  {
   "cell_type": "code",
   "execution_count": 9,
   "metadata": {},
   "outputs": [],
   "source": [
    "def train_nn_model(model, train_dataset, num_features, num_classes, epochs=100, lr=0.01):\n",
    "    # Initialize metrics\n",
    "    loss = []\n",
    "    acc = []\n",
    "    # Initialize  model.\n",
    "    print('Initializing model...')\n",
    "\n",
    "    # Train model\n",
    "    print('Training...')\n",
    "    for epoch in range(epochs):\n",
    "        running_loss = 0.\n",
    "        running_acc = []\n",
    "        num_inputs = 0\n",
    "        # Load batch data\n",
    "        for x, y in train_dataset:\n",
    "            # Convert tensor to numpy.\n",
    "            x = x.numpy().reshape([-1, num_features])\n",
    "            y = y.numpy().reshape(-1)\n",
    "            y_one_hot = np.eye(num_classes)[y]\n",
    "            # Forward propagation\n",
    "            out = model.forward(x, y_one_hot)\n",
    "            # Loss computation\n",
    "            running_loss += model.loss(out, y_one_hot).sum()\n",
    "            num_inputs += x.shape[0]\n",
    "            # Backward propagation\n",
    "            model.backward()\n",
    "            # Update parameters\n",
    "            for layer in model.layers:\n",
    "                if type(layer) == Linear:\n",
    "                    layer.weights -= lr * layer.grad_w\n",
    "                    layer.biases -= lr * layer.grad_b\n",
    "\n",
    "            category = np.argmax(out, axis=1)\n",
    "            batch_acc = (category == y).mean()\n",
    "            running_acc.append(batch_acc)\n",
    "\n",
    "        temp_loss = running_loss / num_inputs\n",
    "        temp_acc = np.array(running_acc).mean()\n",
    "        # Print temp status.\n",
    "        if epoch % 1 == 0:\n",
    "            print(f'\\tEpoch {epoch} -- Loss: {temp_loss} - Acc: {temp_acc}')\n",
    "        # Save metrics\n",
    "        loss.append(temp_loss)\n",
    "        acc.append(temp_acc)\n",
    "\n",
    "    print('\\n\\nNN training has been done')\n",
    "    return model, loss, acc"
   ]
  },
  {
   "cell_type": "markdown",
   "metadata": {},
   "source": [
    "### Train Model\n",
    "\n",
    "Model with no attacks."
   ]
  },
  {
   "cell_type": "code",
   "execution_count": 10,
   "metadata": {},
   "outputs": [
    {
     "name": "stdout",
     "output_type": "stream",
     "text": [
      "Initializing model...\n",
      "Training...\n",
      "\tEpoch 0 -- Loss: 0.5856123205235757 - Acc: 0.83435\n",
      "\tEpoch 1 -- Loss: 0.24449754799696619 - Acc: 0.92915\n",
      "\tEpoch 2 -- Loss: 0.1924803066161989 - Acc: 0.9442666666666667\n",
      "\tEpoch 3 -- Loss: 0.16124779866027905 - Acc: 0.9532833333333334\n",
      "\tEpoch 4 -- Loss: 0.1392437518820467 - Acc: 0.9599166666666666\n",
      "\tEpoch 5 -- Loss: 0.12233779463932444 - Acc: 0.96525\n",
      "\tEpoch 6 -- Loss: 0.10881375598118424 - Acc: 0.9691666666666666\n",
      "\tEpoch 7 -- Loss: 0.09773069916757335 - Acc: 0.97225\n",
      "\tEpoch 8 -- Loss: 0.08837464899815603 - Acc: 0.9751\n",
      "\tEpoch 9 -- Loss: 0.08021792773716503 - Acc: 0.9775333333333334\n",
      "\tEpoch 10 -- Loss: 0.07297756182490761 - Acc: 0.9796833333333334\n",
      "\tEpoch 11 -- Loss: 0.06657384400923422 - Acc: 0.98145\n",
      "\tEpoch 12 -- Loss: 0.06086884394450949 - Acc: 0.9831333333333333\n",
      "\tEpoch 13 -- Loss: 0.055663276213862224 - Acc: 0.9847\n",
      "\tEpoch 14 -- Loss: 0.050978235642333176 - Acc: 0.9863333333333333\n",
      "\tEpoch 15 -- Loss: 0.04678109683463272 - Acc: 0.9877\n",
      "\tEpoch 16 -- Loss: 0.042940566180663164 - Acc: 0.9889\n",
      "\tEpoch 17 -- Loss: 0.03945033538767872 - Acc: 0.99\n",
      "\tEpoch 18 -- Loss: 0.03634555915000974 - Acc: 0.9909833333333333\n",
      "\tEpoch 19 -- Loss: 0.03332034678042524 - Acc: 0.9920333333333333\n",
      "\n",
      "\n",
      "NN training has been done\n"
     ]
    },
    {
     "data": {
      "image/png": "[encoded data removed]",
      "text/plain": [
       "<Figure size 864x576 with 2 Axes>"
      ]
     },
     "metadata": {
      "needs_background": "light"
     },
     "output_type": "display_data"
    }
   ],
   "source": [
    "n_features = 784\n",
    "n_classes = 10\n",
    "net = Model([Linear(n_features,128),\n",
    "             ReLU(),\n",
    "             Linear(128,64),\n",
    "             ReLU(), \n",
    "             Linear(64,32),\n",
    "             ReLU(), \n",
    "             Linear(32, n_classes),\n",
    "             Softmax(),\n",
    "            ], CrossEntropy())\n",
    "original_model, loss, acc = train_nn_model(model=net,train_dataset=train_dataset, num_features= n_features, num_classes=n_classes, epochs=20, lr=0.01)\n",
    "plot_performance(loss=loss, accuracy=acc, is_faulted=False)\n",
    "models_filepath = 'original_model.pkl'\n",
    "save_object(original_model, filename=models_filepath)"
   ]
  },
  {
   "cell_type": "markdown",
   "metadata": {},
   "source": [
    "## Fault Attack\n",
    "\n",
    "Fault attack simulation. Percentage of neurons to be attack is a parameter."
   ]
  },
  {
   "cell_type": "code",
   "execution_count": 11,
   "metadata": {},
   "outputs": [
    {
     "name": "stdout",
     "output_type": "stream",
     "text": [
      "%%%%%%%%%%%%%%%%%%%%%%%%%%%%%%%%%%%%%%%\n",
      "Testing Fault against class 7 \n",
      "%%%%%%%%%%%%%%%%%%%%%%%%%%%%%%%%%%%%%%%\n",
      "%%%%%%%%%%%%%%%%%%%%%%%%%%%%%%%%%%%%%%%\n",
      "Testing Fault over 0.1 % Neurons\n",
      "%%%%%%%%%%%%%%%%%%%%%%%%%%%%%%%%%%%%%%%\n",
      "Initializing model...\n",
      "Training...\n",
      "\tEpoch 0 -- Loss: 0.5810471205584481 - Acc: 0.8328166666666666\n",
      "\tEpoch 1 -- Loss: 0.23546130729652165 - Acc: 0.93225\n",
      "\tEpoch 2 -- Loss: 0.18391357389985544 - Acc: 0.9463833333333334\n",
      "\tEpoch 3 -- Loss: 0.1525423772600212 - Acc: 0.9554833333333334\n",
      "\tEpoch 4 -- Loss: 0.13032895778185263 - Acc: 0.96185\n",
      "\tEpoch 5 -- Loss: 0.11366785958344543 - Acc: 0.9670166666666666\n",
      "\tEpoch 6 -- Loss: 0.09925213969908271 - Acc: 0.9715333333333334\n",
      "\tEpoch 7 -- Loss: 0.08873547772301507 - Acc: 0.97465\n",
      "\tEpoch 8 -- Loss: 0.07972868368092162 - Acc: 0.9778\n",
      "\tEpoch 9 -- Loss: 0.07199581233169457 - Acc: 0.9795666666666667\n",
      "\tEpoch 10 -- Loss: 0.06437405619532882 - Acc: 0.982\n",
      "\tEpoch 11 -- Loss: 0.058748357589946384 - Acc: 0.9835166666666667\n",
      "\tEpoch 12 -- Loss: 0.05351071973831002 - Acc: 0.98515\n",
      "\tEpoch 13 -- Loss: 0.04819283989698239 - Acc: 0.9868666666666667\n",
      "\tEpoch 14 -- Loss: 0.044544989075095534 - Acc: 0.9880166666666667\n",
      "\tEpoch 15 -- Loss: 0.04149619039138538 - Acc: 0.9888166666666667\n",
      "\tEpoch 16 -- Loss: 0.03780410365300226 - Acc: 0.99\n",
      "\tEpoch 17 -- Loss: 0.03407910803516677 - Acc: 0.9913166666666666\n",
      "\tEpoch 18 -- Loss: 0.03126496169615815 - Acc: 0.9924333333333333\n",
      "\tEpoch 19 -- Loss: 0.02921308155220517 - Acc: 0.9930166666666667\n",
      "\n",
      "\n",
      "NN training has been done\n",
      "              precision    recall  f1-score   support\n",
      "\n",
      "           0       0.95      1.00      0.98        42\n",
      "           1       1.00      0.99      0.99        67\n",
      "           2       0.96      0.98      0.97        55\n",
      "           3       0.98      0.98      0.98        45\n",
      "           4       0.98      0.96      0.97        55\n",
      "           5       0.92      0.96      0.94        50\n",
      "           6       0.97      0.91      0.94        43\n",
      "           7       0.98      0.98      0.98        49\n",
      "           8       1.00      0.97      0.99        40\n",
      "           9       0.96      0.98      0.97        54\n",
      "\n",
      "    accuracy                           0.97       500\n",
      "   macro avg       0.97      0.97      0.97       500\n",
      "weighted avg       0.97      0.97      0.97       500\n",
      "\n"
     ]
    }
   ],
   "source": [
    "\n",
    "faulted_models= {}\n",
    "##### Model Parameters\n",
    "n_features = 784\n",
    "n_classes = 10\n",
    "\n",
    "# Sensitivity parameters\n",
    "# Change to train for different attacks\n",
    "#neurons_per_to_try = [0.1, 0.2, 0.3, 0.4, 0.5, 0.6, 0.7, 0.8, 0.9, 1.0]\n",
    "neurons_per_to_try = [0.1]\n",
    "\n",
    "epochs = 20\n",
    "#faulted_models = dict()\n",
    "models_filepath = 'faulted_models.pkl'\n",
    "\n",
    "#Change range to target different numbers\n",
    "for target in range(7,8):\n",
    "    print(f'%%%%%%%%%%%%%%%%%%%%%%%%%%%%%%%%%%%%%%%\\nTesting Fault against class {target} \\n%%%%%%%%%%%%%%%%%%%%%%%%%%%%%%%%%%%%%%%')\n",
    "    for percentage_faulted in neurons_per_to_try:\n",
    "        if ((target,str(percentage_faulted)) not in faulted_models.keys()):\n",
    "            print(f'%%%%%%%%%%%%%%%%%%%%%%%%%%%%%%%%%%%%%%%\\nTesting Fault over {percentage_faulted} % Neurons\\n%%%%%%%%%%%%%%%%%%%%%%%%%%%%%%%%%%%%%%%')\n",
    "            # Training\n",
    "            fault_net = Model([Linear(n_features,128),\n",
    "                         ReLU(is_faulted=True, number_to_fault=[target], percentage_faulted=percentage_faulted),\n",
    "                         Linear(128,64),\n",
    "                         ReLU(), \n",
    "                         Linear(64,32),\n",
    "                         ReLU(), \n",
    "                         Linear(32, n_classes),\n",
    "                         Softmax(),\n",
    "                        ], CrossEntropy())\n",
    "            faulted_models[(target,f'{percentage_faulted}')], loss, acc = train_nn_model(model=fault_net,train_dataset=train_dataset, num_features= n_features, num_classes=n_classes, epochs=epochs, lr=0.01)\n",
    "            #plot_performance(loss=loss, accuracy=acc, is_faulted=True)\n",
    "            # Testing\n",
    "            batch_size = 500\n",
    "            for x,y in test_dataset.batch(batch_size).take(1):\n",
    "                prediction = faulted_models[(target,f'{percentage_faulted}')].forward(x.numpy().reshape(batch_size,-1), None)\n",
    "                predicted_label = np.argmax(prediction, axis=1)\n",
    "                clf_report = classification_report(y_true=y.numpy(), y_pred=predicted_label)\n",
    "                print(clf_report)\n",
    "    save_object(faulted_models, filename=models_filepath)"
   ]
  },
  {
   "cell_type": "markdown",
   "metadata": {},
   "source": [
    "## Load models\n",
    "\n",
    "Load saved models"
   ]
  },
  {
   "cell_type": "code",
   "execution_count": 12,
   "metadata": {},
   "outputs": [],
   "source": [
    "faulted_models_filepath = 'faulted_models.pkl'\n",
    "faulted_models = load_object(faulted_models_filepath)\n",
    "\n",
    "original_model_filepath = 'original_model.pkl'\n",
    "original_model = load_object(original_model_filepath)"
   ]
  },
  {
   "cell_type": "markdown",
   "metadata": {},
   "source": [
    "## Generate attacks\n"
   ]
  },
  {
   "cell_type": "code",
   "execution_count": 13,
   "metadata": {},
   "outputs": [
    {
     "data": {
      "image/png": "[encoded data removed]",
      "text/plain": [
       "<Figure size 864x864 with 5 Axes>"
      ]
     },
     "metadata": {
      "needs_background": "light"
     },
     "output_type": "display_data"
    }
   ],
   "source": [
    "from sage.all import *\n",
    "\n",
    "path = 'attack_img/'\n",
    "\n",
    "images = os.listdir(path)\n",
    "\n",
    "attack_images = []\n",
    "\n",
    "count = 1\n",
    "plt.figure(figsize=(12,12))\n",
    "for i in images:\n",
    "    # Load an color image in grayscale\n",
    "    img = cv2.imread(os.path.join(path, i), cv2.IMREAD_UNCHANGED)\n",
    "    img = cv2.resize(img,(28, 28), interpolation = cv2.INTER_CUBIC)\n",
    "    attack_img = (img[:, :, 3])/255\n",
    "\n",
    "    attack_img = np.expand_dims(attack_img.reshape(-1), axis=0)\n",
    "    #attack_img\n",
    "\n",
    "    plt.subplot(1, 5, count) \n",
    "    plt.imshow(attack_img.reshape(28,28))\n",
    "    \n",
    "    attack_images.append(attack_img)    \n",
    "    count = count + 1\n",
    "plt.show()"
   ]
  },
  {
   "cell_type": "code",
   "execution_count": 14,
   "metadata": {},
   "outputs": [],
   "source": [
    "\n",
    "\n",
    "\n",
    "def solveConstraints(attack_img, model,weight,perc):\n",
    "    first_layer_weights  = model.layers[0].weights\n",
    "    first_layer_biases = model.layers[0].biases\n",
    "    \n",
    "    p = MixedIntegerLinearProgram()\n",
    "    x = p.new_variable(real=True,nonnegative=True)\n",
    "\n",
    "    #Matrix defining problem\n",
    "    A = Matrix(np.transpose(first_layer_weights))\n",
    "\n",
    "\n",
    "    rows = A.nrows()\n",
    "    #rint('Matrix has ', rows, ' rows')\n",
    "    cols = len(A[0])\n",
    "    #rint('And ',cols,' columns')\n",
    "\n",
    "\n",
    "    #Inputs between 0 and 1\n",
    "    if (attack_img is not None):\n",
    "        #Constraints for 'pattern' image\n",
    "        for pos in range(cols):\n",
    "            p.add_constraint(x[pos] <= min(attack_img[0][pos]+0.7,1))\n",
    "            p.add_constraint(x[pos] >= max(attack_img[0][pos]-0.7,0))\n",
    "    else:\n",
    "        #Constraints for 'free' image\n",
    "        for pos in range(cols):\n",
    "            p.add_constraint(x[pos] <= 1)\n",
    "            p.add_constraint(x[pos] >= 0)        \n",
    "\n",
    "\n",
    "    #Constraints on Matrix multiplication\n",
    "\n",
    "    for row in range(int(rows*perc)):\n",
    "        p.add_constraint(sum(x[j] * A[row][j] for j in range(cols))+ first_layer_biases[row] <= -0.1)\n",
    "\n",
    "\n",
    "    #Force non zero solution\n",
    "    p.add_constraint(sum(x[pos] for pos in range(cols)) >= weight)\n",
    "    try:\n",
    "        p.solve()\n",
    "        s = vector([p.get_values(x[pos]) for pos in range(cols)])\n",
    "        s = np.array(s)\n",
    "    except:\n",
    "        print('No solution found')\n",
    "        s= None\n",
    "    return s\n",
    "\n"
   ]
  },
  {
   "cell_type": "code",
   "execution_count": 15,
   "metadata": {},
   "outputs": [
    {
     "name": "stdout",
     "output_type": "stream",
     "text": [
      "Generating attacks against target 7\n",
      "Generating attacks against 10.0 %\n",
      "23.13759732246399\n"
     ]
    }
   ],
   "source": [
    "#percentages = [0.1, 0.2, 0.3, 0.4, 0.5, 0.6, 0.7, 0.8, 0.9, 1.0]\n",
    "percentages = [0.1]\n",
    "\n",
    "import time\n",
    "\n",
    "start = time.time()\n",
    "\n",
    "\n",
    "attack_images_free = attack_images+[None]\n",
    "\n",
    "for target in range(7,8):\n",
    "    print('Generating attacks against target',target)\n",
    "    for perc in percentages:\n",
    "        print('Generating attacks against',perc*100,'%')\n",
    "        arr = []\n",
    "        model = faulted_models[(target, str(perc))]\n",
    "        for attack_img in attack_images_free:\n",
    "            s = solveConstraints(attack_img, model,5,perc)\n",
    "            if s is not None:\n",
    "                arr.append(s)\n",
    "            s = solveConstraints(attack_img,  model,10,perc)\n",
    "            if s is not None:\n",
    "                arr.append(s)\n",
    "\n",
    "        np_arr = np.array(arr)\n",
    "        with open('generated_attacks/solutions_faulted_{}_{}.npy'.format(target,str(perc).replace('.','p')), 'wb') as f:\n",
    "            np.save(f, np_arr)\n",
    "\n",
    "#Time benchmarking            \n",
    "end = time.time()\n",
    "print(end - start)"
   ]
  },
  {
   "cell_type": "markdown",
   "metadata": {},
   "source": [
    "## Load Generated Attacks"
   ]
  },
  {
   "cell_type": "markdown",
   "metadata": {},
   "source": [
    "### Statistics against faulted model"
   ]
  },
  {
   "cell_type": "code",
   "execution_count": 16,
   "metadata": {},
   "outputs": [
    {
     "name": "stdout",
     "output_type": "stream",
     "text": [
      "Testing attacks against target class 7\n",
      "%%%%%%%%%%%%%%%%%%%%%%%%%%%%%%%%%%%%%%%\n",
      "Testing Generated Attacks -  0.1 Neurons\n",
      "%%%%%%%%%%%%%%%%%%%%%%%%%%%%%%%%%%%%%%%\n",
      "Predictions attacks\n",
      "Predictions: [8 8 8 8 7 7 8 8 7 7 7 4]\n",
      "Probabilities: [0.30538378 0.30538378 0.30538378 0.30538378 0.06563264 0.06563264\n",
      " 0.30538378 0.30538378 0.06563264 0.06563264 0.06563264 0.30204683]\n",
      "Predictions against not attacked network\n",
      "Predictions: [4 4 5 5 2 2 5 5 3 3 5 5]\n",
      "Probabilities: [0.78355699 0.78355699 0.00424976 0.00424976 0.01637693 0.01637693\n",
      " 0.00424976 0.00424976 0.04490593 0.04490593 0.00424976 0.00424976]\n"
     ]
    }
   ],
   "source": [
    "generated_attacks = dict()\n",
    "#neurons_per_to_try = [0.1, 0.2, 0.3, 0.4, 0.5, 0.6, 0.7, 0.8, 0.9,1.0]\n",
    "neurons_per_to_try = [0.1]\n",
    "for target in range(7,8):\n",
    "    print('Testing attacks against target class', target)\n",
    "    for percentage_faulted in neurons_per_to_try:\n",
    "        print(f'%%%%%%%%%%%%%%%%%%%%%%%%%%%%%%%%%%%%%%%\\nTesting Generated Attacks -  {percentage_faulted} Neurons\\n%%%%%%%%%%%%%%%%%%%%%%%%%%%%%%%%%%%%%%%')\n",
    "        with open('generated_attacks/solutions_faulted_{}_{}.npy'.format(target,str(percentage_faulted).replace('.','p')), 'rb') as f:\n",
    "            generated_attacks  = np.load(f)\n",
    "            #for g in generated_attacks:\n",
    "            #    plt.imshow(g.reshape(28,28),cmap='Greys')\n",
    "            #    plt.colorbar()\n",
    "            #    plt.show()  \n",
    "            prediction = faulted_models[(target,str(percentage_faulted))].forward(generated_attacks,None)\n",
    "            predicted_label = np.argmax(prediction, axis=1)\n",
    "            predicted_probability = prediction[0][predicted_label]\n",
    "            print('Predictions attacks')\n",
    "            print('Predictions: {}'.format(predicted_label))\n",
    "            print('Probabilities: {}'.format(predicted_probability))\n",
    "            #clf_report = classification_report(y_true=[7]*len(generated_attacks), y_pred=predicted_label)\n",
    "            #print(clf_report)\n",
    "            #Against not attacked NN\n",
    "\n",
    "            prediction = original_model.forward(generated_attacks,None)\n",
    "            predicted_label = np.argmax(prediction, axis=1)\n",
    "            predicted_probability = prediction[0][predicted_label]\n",
    "            print('Predictions against not attacked network')\n",
    "            print('Predictions: {}'.format(predicted_label))\n",
    "            print('Probabilities: {}'.format(predicted_probability))\n",
    "        "
   ]
  },
  {
   "cell_type": "markdown",
   "metadata": {},
   "source": [
    "### Visualization of attacks"
   ]
  },
  {
   "cell_type": "code",
   "execution_count": 17,
   "metadata": {},
   "outputs": [
    {
     "name": "stdout",
     "output_type": "stream",
     "text": [
      "\n",
      "\n",
      "Target class 7\n",
      "\n",
      "\n"
     ]
    },
    {
     "data": {
      "image/png": "[encoded data removed]",
      "text/plain": [
       "<Figure size 432x288 with 2 Axes>"
      ]
     },
     "metadata": {
      "needs_background": "light"
     },
     "output_type": "display_data"
    },
    {
     "data": {
      "image/png": "[encoded data removed]",
      "text/plain": [
       "<Figure size 432x288 with 2 Axes>"
      ]
     },
     "metadata": {
      "needs_background": "light"
     },
     "output_type": "display_data"
    },
    {
     "data": {
      "image/png": "[encoded data removed]",
      "text/plain": [
       "<Figure size 432x288 with 2 Axes>"
      ]
     },
     "metadata": {
      "needs_background": "light"
     },
     "output_type": "display_data"
    },
    {
     "data": {
      "image/png": "[encoded data removed]",
      "text/plain": [
       "<Figure size 432x288 with 2 Axes>"
      ]
     },
     "metadata": {
      "needs_background": "light"
     },
     "output_type": "display_data"
    },
    {
     "data": {
      "image/png": "[encoded data removed]",
      "text/plain": [
       "<Figure size 432x288 with 2 Axes>"
      ]
     },
     "metadata": {
      "needs_background": "light"
     },
     "output_type": "display_data"
    },
    {
     "data": {
      "image/png": "[encoded data removed]",
      "text/plain": [
       "<Figure size 432x288 with 2 Axes>"
      ]
     },
     "metadata": {
      "needs_background": "light"
     },
     "output_type": "display_data"
    },
    {
     "data": {
      "image/png": "[encoded data removed]",
      "text/plain": [
       "<Figure size 432x288 with 2 Axes>"
      ]
     },
     "metadata": {
      "needs_background": "light"
     },
     "output_type": "display_data"
    },
    {
     "data": {
      "image/png": "[encoded data removed]",
      "text/plain": [
       "<Figure size 432x288 with 2 Axes>"
      ]
     },
     "metadata": {
      "needs_background": "light"
     },
     "output_type": "display_data"
    },
    {
     "data": {
      "image/png": "[encoded data removed]",
      "text/plain": [
       "<Figure size 432x288 with 2 Axes>"
      ]
     },
     "metadata": {
      "needs_background": "light"
     },
     "output_type": "display_data"
    },
    {
     "data": {
      "image/png": "[encoded data removed]",
      "text/plain": [
       "<Figure size 432x288 with 2 Axes>"
      ]
     },
     "metadata": {
      "needs_background": "light"
     },
     "output_type": "display_data"
    },
    {
     "data": {
      "image/png": "[encoded data removed]",
      "text/plain": [
       "<Figure size 432x288 with 2 Axes>"
      ]
     },
     "metadata": {
      "needs_background": "light"
     },
     "output_type": "display_data"
    },
    {
     "data": {
      "image/png": "[encoded data removed]",
      "text/plain": [
       "<Figure size 432x288 with 2 Axes>"
      ]
     },
     "metadata": {
      "needs_background": "light"
     },
     "output_type": "display_data"
    },
    {
     "name": "stdout",
     "output_type": "stream",
     "text": [
      "12 \t 0.4166666666666667 \t 0.38378470346766996 \t 0.972\n"
     ]
    }
   ],
   "source": [
    "generated_attacks = dict()\n",
    "#neurons_per_to_try = [0.1, 0.2, 0.3, 0.4, 0.5, 0.6, 0.7, 0.8, 0.9,1.0]\n",
    "neurons_per_to_try = [0.1]\n",
    "for target in range(7,8):\n",
    "    print('\\n\\nTarget class', target)\n",
    "    print('\\n') \n",
    "    for percentage_faulted in neurons_per_to_try:\n",
    "        #print(f'{percentage_faulted*100} % neurons')\n",
    "        with open('generated_attacks/solutions_faulted_{}_{}.npy'.format(target,str(percentage_faulted).replace('.','p')), 'rb') as f:\n",
    "            generated_attacks  = np.load(f)\n",
    "            for g in generated_attacks:\n",
    "                plt.imshow(g.reshape(28,28),cmap='Greys')\n",
    "                plt.colorbar()\n",
    "                plt.show()  \n",
    "            prediction = faulted_models[(target,str(percentage_faulted))].forward(generated_attacks,None)\n",
    "            predicted_label = np.argmax(prediction, axis=1)\n",
    "            predicted_probability = prediction[0][predicted_label]\n",
    "            \n",
    "            #Network accuracy\n",
    "            for x,y in test_dataset.batch(batch_size).take(1):\n",
    "                prediction_test = faulted_models[(target,f'{percentage_faulted}')].forward(x.numpy().reshape(batch_size,-1), None)\n",
    "                predicted_label_test = np.argmax(prediction_test, axis=1)\n",
    "            accuracy = accuracy_score(y_true=y.numpy(), y_pred=predicted_label_test)\n",
    "            \n",
    "            number_attacks = len(predicted_label)\n",
    "            attack_success = (predicted_label==target).sum()/len(predicted_label)\n",
    "            mean_confidence = prediction[predicted_label==target][:,target].mean()\n",
    "            print(number_attacks,'\\t',attack_success,'\\t', mean_confidence,'\\t',accuracy)\n",
    "\n",
    "        "
   ]
  },
  {
   "cell_type": "markdown",
   "metadata": {},
   "source": [
    "### Compact visualization"
   ]
  },
  {
   "cell_type": "code",
   "execution_count": 18,
   "metadata": {},
   "outputs": [
    {
     "name": "stdout",
     "output_type": "stream",
     "text": [
      "\n",
      "\n",
      "Target class 7\n",
      "\n",
      "\n"
     ]
    },
    {
     "data": {
      "image/png": "[encoded data removed]",
      "text/plain": [
       "<Figure size 1296x1296 with 12 Axes>"
      ]
     },
     "metadata": {
      "needs_background": "light"
     },
     "output_type": "display_data"
    }
   ],
   "source": [
    "generated_attacks = dict()\n",
    "#neurons_per_to_try = [0.1,  0.5, 1.0]\n",
    "neurons_per_to_try = [0.1]\n",
    "for target in range(7,8):\n",
    "    print('\\n\\nTarget class', target)\n",
    "    print('\\n') \n",
    "    for percentage_faulted in neurons_per_to_try:\n",
    "        #print(f'{percentage_faulted*100} % neurons')\n",
    "        with open('generated_attacks/solutions_faulted_{}_{}.npy'.format(target,str(percentage_faulted).replace('.','p')), 'rb') as f:\n",
    "            generated_attacks  = np.load(f)\n",
    "            plt.figure(figsize=(18,18))\n",
    "            count = 1\n",
    "            for g in generated_attacks:\n",
    "                plt.subplot(1, 12, count)\n",
    "                plt.axis('off')\n",
    "                plt.imshow(g.reshape(28,28),cmap='Greys')\n",
    "                count = count + 1\n",
    "            plt.show() \n"
   ]
  },
  {
   "cell_type": "markdown",
   "metadata": {},
   "source": [
    "### Original (non-attacked) network accuracy"
   ]
  },
  {
   "cell_type": "code",
   "execution_count": 19,
   "metadata": {},
   "outputs": [
    {
     "name": "stdout",
     "output_type": "stream",
     "text": [
      "0.974\n"
     ]
    }
   ],
   "source": [
    "\n",
    "batch_size = 500\n",
    "#Network accuracy\n",
    "for x,y in test_dataset.batch(batch_size).take(1):\n",
    "    prediction_test = original_model.forward(x.numpy().reshape(batch_size,-1), None)\n",
    "    predicted_label_test = np.argmax(prediction_test, axis=1)\n",
    "accuracy = accuracy_score(y_true=y.numpy(), y_pred=predicted_label_test)\n",
    "\n",
    "print(accuracy)"
   ]
  },
  {
   "cell_type": "code",
   "execution_count": null,
   "metadata": {},
   "outputs": [],
   "source": []
  }
 ],
 "metadata": {
  "kernelspec": {
   "display_name": "Python 3 (ipykernel)",
   "language": "python",
   "name": "python3"
  },
  "language_info": {
   "codemirror_mode": {
    "name": "ipython",
    "version": 3
   },
   "file_extension": ".py",
   "mimetype": "text/x-python",
   "name": "python",
   "nbconvert_exporter": "python",
   "pygments_lexer": "ipython3",
   "version": "3.9.10"
  }
 },
 "nbformat": 4,
 "nbformat_minor": 4
}
